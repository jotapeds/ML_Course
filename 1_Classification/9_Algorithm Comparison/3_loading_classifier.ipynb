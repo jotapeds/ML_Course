{
 "cells": [
  {
   "cell_type": "code",
   "execution_count": 9,
   "metadata": {},
   "outputs": [],
   "source": [
    "import pandas as pd\n",
    "import numpy as np\n",
    "import seaborn as sns\n",
    "import matplotlib.pyplot as plt\n",
    "import plotly.express as px\n",
    "from sklearn.tree import DecisionTreeClassifier\n",
    "from sklearn.ensemble import RandomForestClassifier\n",
    "from sklearn.neighbors import KNeighborsClassifier\n",
    "import pickle\n"
   ]
  },
  {
   "cell_type": "code",
   "execution_count": 13,
   "metadata": {},
   "outputs": [],
   "source": [
    "\n",
    "with open('credit.pkl', 'rb') as f:\n",
    "    x_credit_train, x_credit_test, y_credit_train, y_credit_test = pickle.load(f)"
   ]
  },
  {
   "cell_type": "code",
   "execution_count": 14,
   "metadata": {},
   "outputs": [],
   "source": [
    "x_credit = np.concatenate((x_credit_train, x_credit_test), axis=0)\n",
    "y_credit = np.concatenate((y_credit_train, y_credit_test), axis = 0)\n"
   ]
  },
  {
   "cell_type": "code",
   "execution_count": 15,
   "metadata": {},
   "outputs": [],
   "source": [
    "random_forest = pickle.load(open('final_random_forest.sav', 'rb'))\n",
    "tree = pickle.load(open('final_tree.sav', 'rb'))\n",
    "knn = pickle.load(open('final_knn.sav', 'rb'))"
   ]
  },
  {
   "cell_type": "code",
   "execution_count": 24,
   "metadata": {},
   "outputs": [
    {
     "data": {
      "text/plain": [
       "array([-1.06090423, -0.50135143, -0.75757339])"
      ]
     },
     "execution_count": 24,
     "metadata": {},
     "output_type": "execute_result"
    }
   ],
   "source": [
    "new_variable = x_credit[0]\n",
    "new_variable"
   ]
  },
  {
   "cell_type": "code",
   "execution_count": 30,
   "metadata": {},
   "outputs": [],
   "source": [
    "new_variable = new_variable.reshape(1,-1)"
   ]
  },
  {
   "cell_type": "code",
   "execution_count": 31,
   "metadata": {},
   "outputs": [
    {
     "data": {
      "text/plain": [
       "(array([[-1.06090423, -0.50135143, -0.75757339]]), (1, 3))"
      ]
     },
     "execution_count": 31,
     "metadata": {},
     "output_type": "execute_result"
    }
   ],
   "source": [
    "new_variable, new_variable.shape"
   ]
  },
  {
   "cell_type": "code",
   "execution_count": 33,
   "metadata": {},
   "outputs": [],
   "source": [
    "random_forest_answer = random_forest.predict(new_variable)\n",
    "tree_answer = tree.predict(new_variable)\n",
    "knn_answer = knn.predict(new_variable)"
   ]
  },
  {
   "cell_type": "code",
   "execution_count": 34,
   "metadata": {},
   "outputs": [
    {
     "data": {
      "text/plain": [
       "(array([0], dtype=int64), array([0], dtype=int64), array([0], dtype=int64))"
      ]
     },
     "execution_count": 34,
     "metadata": {},
     "output_type": "execute_result"
    }
   ],
   "source": [
    "random_forest_answer, tree_answer, knn_answer"
   ]
  },
  {
   "cell_type": "code",
   "execution_count": 37,
   "metadata": {},
   "outputs": [
    {
     "name": "stdout",
     "output_type": "stream",
     "text": [
      "client will pay loan\n"
     ]
    }
   ],
   "source": [
    "pay = 0\n",
    "dont_pay = 0\n",
    "\n",
    "if random_forest_answer[0] == 1:\n",
    "    dont_pay += 1\n",
    "else:\n",
    "    pay += 1\n",
    "\n",
    "if tree_answer[0] == 1:\n",
    "    dont_pay += 1\n",
    "else:\n",
    "    pay += 1\n",
    "\n",
    "if knn_answer[0] == 1:\n",
    "    dont_pay += 1\n",
    "else:\n",
    "    pay += 1\n",
    "\n",
    "if pay > dont_pay:\n",
    "    print('client will pay loan')\n",
    "\n",
    "elif  pay == dont_pay:\n",
    "    print('draw')\n",
    "\n",
    "else:\n",
    "    print('client will not pay')"
   ]
  },
  {
   "cell_type": "markdown",
   "metadata": {},
   "source": [
    "Rejecting classifiers"
   ]
  },
  {
   "cell_type": "code",
   "execution_count": 38,
   "metadata": {},
   "outputs": [],
   "source": [
    "probability_random_forest = random_forest.predict_proba(new_variable)\n",
    "probability_tree = tree.predict_proba(new_variable)\n",
    "probability_knn = knn.predict_proba(new_variable)\n"
   ]
  },
  {
   "cell_type": "code",
   "execution_count": 39,
   "metadata": {},
   "outputs": [
    {
     "data": {
      "text/plain": [
       "(array([[0.80428479, 0.19571521]]),\n",
       " array([[0.80769231, 0.19230769]]),\n",
       " array([[0.72, 0.28]]))"
      ]
     },
     "execution_count": 39,
     "metadata": {},
     "output_type": "execute_result"
    }
   ],
   "source": [
    "probability_random_forest,probability_tree,probability_knn"
   ]
  },
  {
   "cell_type": "code",
   "execution_count": 40,
   "metadata": {},
   "outputs": [],
   "source": [
    "random_forest_trust = probability_random_forest.max()\n",
    "tree_trust = probability_tree.max()\n",
    "knn_trust = probability_knn.max()"
   ]
  },
  {
   "cell_type": "code",
   "execution_count": 41,
   "metadata": {},
   "outputs": [
    {
     "data": {
      "text/plain": [
       "(0.804284787051747, 0.8076923076923077, 0.72)"
      ]
     },
     "execution_count": 41,
     "metadata": {},
     "output_type": "execute_result"
    }
   ],
   "source": [
    "random_forest_trust,tree_trust,knn_trust\n"
   ]
  },
  {
   "cell_type": "code",
   "execution_count": 45,
   "metadata": {},
   "outputs": [
    {
     "name": "stdout",
     "output_type": "stream",
     "text": [
      "client will pay loan, based on 2 algorithm\n"
     ]
    }
   ],
   "source": [
    "pay = 0\n",
    "dont_pay = 0\n",
    "minimum_trust = 0.80\n",
    "algorithm = 0\n",
    "\n",
    "if random_forest_trust >= minimum_trust:\n",
    "    algorithm += 1\n",
    "if random_forest_answer[0] == 1:\n",
    "    dont_pay += 1\n",
    "else:\n",
    "    pay += 1\n",
    "\n",
    "if tree_trust >= minimum_trust:\n",
    "    algorithm += 1\n",
    "if tree_answer[0] == 1:\n",
    "    dont_pay += 1\n",
    "else:\n",
    "    pay += 1\n",
    "\n",
    "if knn_trust >= minimum_trust:\n",
    "    algorithm += 1\n",
    "if knn_answer[0] == 1:\n",
    "    dont_pay += 1\n",
    "else:\n",
    "    pay += 1\n",
    "\n",
    "if pay > dont_pay:\n",
    "    print(f'client will pay loan, based on {algorithm} algorithm')\n",
    "\n",
    "elif  pay == dont_pay:\n",
    "    print(f'draw,based on {algorithm} algorithm')\n",
    "\n",
    "else:\n",
    "    print(f'client will not pay, based on {algorithm} algorithm')"
   ]
  }
 ],
 "metadata": {
  "kernelspec": {
   "display_name": "Python 3.10.6 64-bit (windows store)",
   "language": "python",
   "name": "python3"
  },
  "language_info": {
   "codemirror_mode": {
    "name": "ipython",
    "version": 3
   },
   "file_extension": ".py",
   "mimetype": "text/x-python",
   "name": "python",
   "nbconvert_exporter": "python",
   "pygments_lexer": "ipython3",
   "version": "3.10.6"
  },
  "orig_nbformat": 4,
  "vscode": {
   "interpreter": {
    "hash": "6ae31e9fee54a3dc471954a11e553b300df5afc687cca06ee50e4665b9971c71"
   }
  }
 },
 "nbformat": 4,
 "nbformat_minor": 2
}
