{
 "cells": [
  {
   "cell_type": "code",
   "execution_count": 1,
   "metadata": {},
   "outputs": [],
   "source": [
    "import pandas as pd\n",
    "import numpy as np\n",
    "import seaborn as sns\n",
    "import matplotlib.pyplot as plt\n",
    "import plotly.express as px\n",
    "from sklearn.neural_network import MLPClassifier # multi layer perceptron"
   ]
  },
  {
   "cell_type": "code",
   "execution_count": 2,
   "metadata": {},
   "outputs": [],
   "source": [
    "import pickle\n",
    "with open('credit.pkl', 'rb') as f:\n",
    "    x_credit_train, x_credit_test, y_credit_train, y_credit_test = pickle.load(f)"
   ]
  },
  {
   "cell_type": "code",
   "execution_count": 3,
   "metadata": {},
   "outputs": [
    {
     "data": {
      "text/plain": [
       "((27693, 3), (27693,))"
      ]
     },
     "execution_count": 3,
     "metadata": {},
     "output_type": "execute_result"
    }
   ],
   "source": [
    "x_credit_train.shape, y_credit_train.shape"
   ]
  },
  {
   "cell_type": "code",
   "execution_count": 4,
   "metadata": {},
   "outputs": [
    {
     "data": {
      "text/plain": [
       "((4888, 3), (4888,))"
      ]
     },
     "execution_count": 4,
     "metadata": {},
     "output_type": "execute_result"
    }
   ],
   "source": [
    "x_credit_test.shape, y_credit_test.shape"
   ]
  },
  {
   "cell_type": "code",
   "execution_count": 29,
   "metadata": {},
   "outputs": [
    {
     "name": "stdout",
     "output_type": "stream",
     "text": [
      "Iteration 1, loss = 0.46965619\n",
      "Iteration 2, loss = 0.43083736\n",
      "Iteration 3, loss = 0.42875785\n",
      "Iteration 4, loss = 0.42556389\n",
      "Iteration 5, loss = 0.42339516\n",
      "Iteration 6, loss = 0.42343902\n",
      "Iteration 7, loss = 0.42333564\n",
      "Iteration 8, loss = 0.42104512\n",
      "Iteration 9, loss = 0.41960886\n",
      "Iteration 10, loss = 0.41891837\n",
      "Iteration 11, loss = 0.41917621\n",
      "Iteration 12, loss = 0.41656377\n",
      "Iteration 13, loss = 0.41789240\n",
      "Iteration 14, loss = 0.41691895\n",
      "Iteration 15, loss = 0.41675756\n",
      "Iteration 16, loss = 0.41503063\n",
      "Iteration 17, loss = 0.41559339\n",
      "Iteration 18, loss = 0.41387768\n",
      "Iteration 19, loss = 0.41558276\n",
      "Iteration 20, loss = 0.41560861\n",
      "Iteration 21, loss = 0.41449641\n",
      "Iteration 22, loss = 0.41355087\n",
      "Iteration 23, loss = 0.41258311\n",
      "Iteration 24, loss = 0.41313477\n",
      "Iteration 25, loss = 0.41427423\n",
      "Iteration 26, loss = 0.41345551\n",
      "Iteration 27, loss = 0.41210079\n",
      "Iteration 28, loss = 0.41040524\n",
      "Iteration 29, loss = 0.41243423\n",
      "Iteration 30, loss = 0.41245561\n",
      "Iteration 31, loss = 0.41256752\n",
      "Iteration 32, loss = 0.41109111\n",
      "Iteration 33, loss = 0.41053075\n",
      "Iteration 34, loss = 0.41271245\n",
      "Iteration 35, loss = 0.41072877\n",
      "Iteration 36, loss = 0.40983614\n",
      "Iteration 37, loss = 0.40976203\n",
      "Iteration 38, loss = 0.41022272\n",
      "Iteration 39, loss = 0.41005672\n",
      "Iteration 40, loss = 0.41070584\n",
      "Iteration 41, loss = 0.40881766\n",
      "Iteration 42, loss = 0.41208720\n",
      "Iteration 43, loss = 0.40926706\n",
      "Iteration 44, loss = 0.40925590\n",
      "Iteration 45, loss = 0.40849330\n",
      "Iteration 46, loss = 0.40879182\n",
      "Iteration 47, loss = 0.41141706\n",
      "Iteration 48, loss = 0.40815842\n",
      "Iteration 49, loss = 0.40722727\n",
      "Iteration 50, loss = 0.40799494\n",
      "Iteration 51, loss = 0.40861078\n",
      "Iteration 52, loss = 0.40723453\n",
      "Iteration 53, loss = 0.41304348\n",
      "Iteration 54, loss = 0.40707747\n",
      "Iteration 55, loss = 0.40510935\n",
      "Iteration 56, loss = 0.41003554\n",
      "Iteration 57, loss = 0.40717068\n",
      "Iteration 58, loss = 0.40626556\n",
      "Iteration 59, loss = 0.40686221\n",
      "Iteration 60, loss = 0.40770075\n",
      "Iteration 61, loss = 0.40624843\n",
      "Iteration 62, loss = 0.40553929\n",
      "Iteration 63, loss = 0.40777087\n",
      "Iteration 64, loss = 0.40646245\n",
      "Iteration 65, loss = 0.40539733\n",
      "Iteration 66, loss = 0.40648053\n",
      "Training loss did not improve more than tol=0.000010 for 10 consecutive epochs. Stopping.\n"
     ]
    }
   ],
   "source": [
    "neural_network_credit = MLPClassifier(max_iter= 3000, verbose=True, solver='adam', activation='relu', hidden_layer_sizes=(100,100,100,100),tol=0.0000100)\n",
    "npc = neural_network_credit.fit(x_credit_train, y_credit_train)"
   ]
  },
  {
   "cell_type": "code",
   "execution_count": 30,
   "metadata": {},
   "outputs": [
    {
     "data": {
      "text/plain": [
       "array([0, 0, 0, ..., 0, 1, 0], dtype=int64)"
      ]
     },
     "execution_count": 30,
     "metadata": {},
     "output_type": "execute_result"
    }
   ],
   "source": [
    "predict = neural_network_credit.predict(x_credit_test)\n",
    "predict"
   ]
  },
  {
   "cell_type": "code",
   "execution_count": 31,
   "metadata": {},
   "outputs": [
    {
     "data": {
      "text/plain": [
       "array([0, 0, 0, ..., 1, 1, 0], dtype=int64)"
      ]
     },
     "execution_count": 31,
     "metadata": {},
     "output_type": "execute_result"
    }
   ],
   "source": [
    "y_credit_test"
   ]
  },
  {
   "cell_type": "code",
   "execution_count": 32,
   "metadata": {},
   "outputs": [
    {
     "data": {
      "text/plain": [
       "0.8453355155482815"
      ]
     },
     "execution_count": 32,
     "metadata": {},
     "output_type": "execute_result"
    }
   ],
   "source": [
    "from sklearn.metrics import accuracy_score, classification_report\n",
    "accuracy_score(y_credit_test, predict)"
   ]
  },
  {
   "cell_type": "code",
   "execution_count": 33,
   "metadata": {},
   "outputs": [
    {
     "data": {
      "text/plain": [
       "0.8453355155482815"
      ]
     },
     "execution_count": 33,
     "metadata": {},
     "output_type": "execute_result"
    },
    {
     "data": {
      "image/png": "[encoded data removed]",
      "text/plain": [
       "<Figure size 432x288 with 1 Axes>"
      ]
     },
     "metadata": {
      "needs_background": "light"
     },
     "output_type": "display_data"
    }
   ],
   "source": [
    "from yellowbrick.classifier import ConfusionMatrix\n",
    "cm = ConfusionMatrix(neural_network_credit)\n",
    "cm.fit(x_credit_train, y_credit_train)\n",
    "cm.score(x_credit_test, y_credit_test)"
   ]
  },
  {
   "cell_type": "code",
   "execution_count": 34,
   "metadata": {},
   "outputs": [
    {
     "name": "stdout",
     "output_type": "stream",
     "text": [
      "              precision    recall  f1-score   support\n",
      "\n",
      "           0       0.86      0.96      0.91      3881\n",
      "           1       0.71      0.42      0.53      1007\n",
      "\n",
      "    accuracy                           0.85      4888\n",
      "   macro avg       0.79      0.69      0.72      4888\n",
      "weighted avg       0.83      0.85      0.83      4888\n",
      "\n"
     ]
    }
   ],
   "source": [
    "print(classification_report(y_credit_test,predict))"
   ]
  }
 ],
 "metadata": {
  "kernelspec": {
   "display_name": "Python 3.10.6 64-bit (windows store)",
   "language": "python",
   "name": "python3"
  },
  "language_info": {
   "codemirror_mode": {
    "name": "ipython",
    "version": 3
   },
   "file_extension": ".py",
   "mimetype": "text/x-python",
   "name": "python",
   "nbconvert_exporter": "python",
   "pygments_lexer": "ipython3",
   "version": "3.10.6"
  },
  "orig_nbformat": 4,
  "vscode": {
   "interpreter": {
    "hash": "6ae31e9fee54a3dc471954a11e553b300df5afc687cca06ee50e4665b9971c71"
   }
  }
 },
 "nbformat": 4,
 "nbformat_minor": 2
}
